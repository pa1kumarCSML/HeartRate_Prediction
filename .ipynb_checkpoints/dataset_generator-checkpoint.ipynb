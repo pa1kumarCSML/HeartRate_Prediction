{
 "cells": [
  {
   "cell_type": "code",
   "execution_count": 18,
   "id": "c3d53c17-6bf1-4fb7-83e0-e5bc4393dc87",
   "metadata": {},
   "outputs": [
    {
     "name": "stdout",
     "output_type": "stream",
     "text": [
      "C:/Users/dpava/Desktop/celeb_df_v1/Celeb-synthesis\n",
      "Files information saved to celebDF_DS.xlsx\n"
     ]
    }
   ],
   "source": [
    "import os\n",
    "import pandas as pd\n",
    "import cv2\n",
    "\n",
    "def list_files_in_directory(directory_path):\n",
    "    print(directory_path)\n",
    "    files_data = []\n",
    "\n",
    "    for root, dirs, files in os.walk(directory_path):\n",
    "        for file in files:\n",
    "            file_path = os.path.join(root, file)\n",
    "            file_size = os.path.getsize(file_path)\n",
    "            cap = cv2.VideoCapture(file_path)\n",
    "            fps = cap.get(cv2.CAP_PROP_FPS)\n",
    "            total_frames = cap.get(cv2.CAP_PROP_FRAME_COUNT)\n",
    "            duration = total_frames // fps\n",
    "\n",
    "            files_data.append({\n",
    "                'filename': file,\n",
    "                'filepath': file_path,\n",
    "                'filesize(kb)': file_size / 1024,\n",
    "                'duration(sec)': duration,\n",
    "                'real': 1,\n",
    "            })\n",
    "            cap.release()\n",
    "\n",
    "    return files_data\n",
    "\n",
    "def save_to_excel(data, output_file):\n",
    "    new_df = pd.DataFrame(data)\n",
    "    \n",
    "    # If the file exists, append to it. Otherwise, create it.\n",
    "    try:\n",
    "        existing_df = pd.read_excel(output_file)\n",
    "        combined_df = pd.concat([existing_df, new_df], ignore_index=True)\n",
    "    except FileNotFoundError:\n",
    "        combined_df = new_df\n",
    "    \n",
    "    combined_df.to_excel(output_file, index=False)\n",
    "\n",
    "def main():\n",
    "    directory_path = \"C:/Users/dpava/Desktop/celeb_df_v1/YouTube-real\"  # Replace with the path to your folder\n",
    "    output_file = 'celebDF_DS.xlsx'  # The name of the output Excel file\n",
    "\n",
    "    files_data = list_files_in_directory(directory_path)\n",
    "    save_to_excel(files_data, output_file)\n",
    "    print(f\"Files information saved to {output_file}\")\n",
    "\n",
    "if __name__ == \"__main__\":\n",
    "    main()\n"
   ]
  },
  {
   "cell_type": "code",
   "execution_count": null,
   "id": "bf245359-1bf2-4f30-a0b1-e1e6d7b847ef",
   "metadata": {},
   "outputs": [],
   "source": []
  }
 ],
 "metadata": {
  "kernelspec": {
   "display_name": "Python 3 (ipykernel)",
   "language": "python",
   "name": "python3"
  },
  "language_info": {
   "codemirror_mode": {
    "name": "ipython",
    "version": 3
   },
   "file_extension": ".py",
   "mimetype": "text/x-python",
   "name": "python",
   "nbconvert_exporter": "python",
   "pygments_lexer": "ipython3",
   "version": "3.12.0"
  }
 },
 "nbformat": 4,
 "nbformat_minor": 5
}
