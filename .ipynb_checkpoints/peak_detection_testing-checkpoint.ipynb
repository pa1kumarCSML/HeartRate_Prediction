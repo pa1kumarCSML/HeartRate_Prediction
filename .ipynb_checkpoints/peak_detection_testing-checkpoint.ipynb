{
 "cells": [
  {
   "cell_type": "code",
   "execution_count": null,
   "id": "e372141b-5645-459e-80b9-e4bd91a009f9",
   "metadata": {},
   "outputs": [],
   "source": [
    "import numpy as np\n",
    "from scipy.signal import find_peaks\n",
    "import matplotlib.pyplot as plt\n",
    "\n",
    "# Generate sample data (replace this with your actual signal)\n",
    "t = np.linspace(0, 10, 1000)\n",
    "signal = np.sin(2 * np.pi * t)  # Example sinusoidal signal\n",
    "\n",
    "# Apply peak detection\n",
    "peaks, _ = find_peaks(signal, height=0)\n",
    "\n",
    "# Plot original signal with detected peaks\n",
    "plt.figure(figsize=(10, 6))\n",
    "plt.plot(t, signal, label='Signal')\n",
    "plt.plot(t[peaks], signal[peaks], 'ro', label='Peaks')\n",
    "plt.xlabel('Time')\n",
    "plt.ylabel('Amplitude')\n",
    "plt.title('Signal with Detected Peaks')\n",
    "plt.legend()\n",
    "plt.grid(True)\n",
    "plt.show()\n"
   ]
  }
 ],
 "metadata": {
  "kernelspec": {
   "display_name": "Python 3 (ipykernel)",
   "language": "python",
   "name": "python3"
  },
  "language_info": {
   "codemirror_mode": {
    "name": "ipython",
    "version": 3
   },
   "file_extension": ".py",
   "mimetype": "text/x-python",
   "name": "python",
   "nbconvert_exporter": "python",
   "pygments_lexer": "ipython3",
   "version": "3.12.0"
  }
 },
 "nbformat": 4,
 "nbformat_minor": 5
}
