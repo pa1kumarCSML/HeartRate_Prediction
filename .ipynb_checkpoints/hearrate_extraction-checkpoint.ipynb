{
 "cells": [
  {
   "cell_type": "code",
   "execution_count": 1,
   "id": "ae033361-8e31-4f40-8974-60ec68873a35",
   "metadata": {},
   "outputs": [],
   "source": [
    "import cv2\n",
    "import matplotlib.pyplot as plt\n",
    "\n",
    "# Load the pre-trained face detection model from OpenCV\n",
    "net = cv2.dnn.readNetFromCaffe(\n",
    "    'deploy.prototxt',  # Path to the prototxt file\n",
    "    'res10_300x300_ssd_iter_140000.caffemodel'  # Path to the caffemodel file\n",
    ")\n",
    "\n",
    "# Read the input image\n",
    "image = cv2.imread('C:/Users/dpava/Documents/GitHub/HeartRate_Prediction/images/jeo.jpg')\n",
    "\n",
    "# Resize the image to a fixed width and height (300x300) for the model\n",
    "resized_image = cv2.resize(image, (300, 300))\n",
    "\n",
    "# Construct a blob from the image\n",
    "blob = cv2.dnn.blobFromImage(resized_image, 1.0, (300, 300), (104.0, 177.0, 123.0))\n",
    "\n",
    "# Set the blob as input to the model\n",
    "net.setInput(blob)\n",
    "\n",
    "# Perform face detection\n",
    "detections = net.forward()\n",
    "\n",
    "# Iterate over the detected faces\n",
    "for i in range(detections.shape[2]):\n",
    "    confidence = detections[0, 0, i, 2]\n",
    "\n",
    "    # Confidence threshold for face detection (adjust as needed)\n",
    "    if confidence > 0.5:\n",
    "        # Extract the coordinates of the bounding box\n",
    "        box = detections[0, 0, i, 3:7] * np.array([resized_image.shape[1], resized_image.shape[0], resized_image.shape[1], resized_image.shape[0]])\n",
    "        (startX, startY, endX, endY) = box.astype(\"int\")\n",
    "\n",
    "        # Draw the bounding box on the original image\n",
    "        cv2.rectangle(image, (startX, startY), (endX, endY), (0, 255, 0), 2)\n",
    "\n",
    "# Display the result using matplotlib\n",
    "plt.imshow(cv2.cvtColor(image, cv2.COLOR_BGR2RGB))\n",
    "plt.title('Detected Face Regions')\n",
    "plt.show()\n"
   ]
  },
  {
   "cell_type": "code",
   "execution_count": null,
   "id": "5d8126f0-7124-433e-8322-d723e2b5240a",
   "metadata": {},
   "outputs": [],
   "source": []
  }
 ],
 "metadata": {
  "kernelspec": {
   "display_name": "Python 3 (ipykernel)",
   "language": "python",
   "name": "python3"
  },
  "language_info": {
   "codemirror_mode": {
    "name": "ipython",
    "version": 3
   },
   "file_extension": ".py",
   "mimetype": "text/x-python",
   "name": "python",
   "nbconvert_exporter": "python",
   "pygments_lexer": "ipython3",
   "version": "3.12.0"
  }
 },
 "nbformat": 4,
 "nbformat_minor": 5
}
